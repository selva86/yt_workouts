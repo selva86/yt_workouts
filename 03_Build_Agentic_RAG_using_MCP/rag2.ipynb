{
 "cells": [
  {
   "cell_type": "markdown",
   "id": "34bdcc15",
   "metadata": {},
   "source": [
    "# Building an Intelligent Q&A System with Vector Search\n"
   ]
  },
  {
   "cell_type": "markdown",
   "id": "886266ca",
   "metadata": {},
   "source": [
    "Let's build a smart Q&A system. \n",
    "\n",
    "Think of it like creating your own personal assistant that can understand questions and find the best\n",
    "answers from a knowledge base. \n",
    "\n",
    "First, we'll take some FAQ data, turn it into numbers (embeddings), store it in a database, and then search through it to find the best answers to questions.\n",
    "\n"
   ]
  },
  {
   "cell_type": "code",
   "execution_count": 1,
   "id": "652c46e2",
   "metadata": {},
   "outputs": [
    {
     "name": "stderr",
     "output_type": "stream",
     "text": [
      "c:\\00_MLPlus\\02_YT_Workouts\\03_Build_Agentic_RAG_using_MCP\\.venv\\Lib\\site-packages\\tqdm\\auto.py:21: TqdmWarning: IProgress not found. Please update jupyter and ipywidgets. See https://ipywidgets.readthedocs.io/en/stable/user_install.html\n",
      "  from .autonotebook import tqdm as notebook_tqdm\n"
     ]
    }
   ],
   "source": [
    "# Standard imports - these are our toolbox!\n",
    "from llama_index.embeddings.huggingface import HuggingFaceEmbedding\n",
    "from tqdm import tqdm\n",
    "from qdrant_client import models\n",
    "from qdrant_client import QdrantClient"
   ]
  },
  {
   "cell_type": "markdown",
   "id": "d8644e76",
   "metadata": {},
   "source": [
    "__Step 1: Prepare the Data__"
   ]
  },
  {
   "cell_type": "code",
   "execution_count": 2,
   "id": "c0e8c981",
   "metadata": {},
   "outputs": [],
   "source": [
    "def load_faq_data():\n",
    "    \"\"\"\n",
    "    This function loads our FAQ data. Think of it as our knowledge base.\n",
    "    We have 20 questions and answers on F1 Racing that our system will search through.\n",
    "    \"\"\"\n",
    "    faq_content = \"\"\"Question 1: What does F1 stand for in Formula 1 racing?\n",
    "    Answer 1: Formula One refers to the specific set of rules and regulations that all participating cars must follow, making it the highest class of single-seater auto racing.\n",
    "\n",
    "    Question 2: How many teams compete in a typical F1 season?\n",
    "    Answer 2: Usually 10 teams, with each team fielding two cars, making a total of 20 drivers on the grid.\n",
    "\n",
    "    Question 3: What is the significance of tire compounds in F1?\n",
    "    Answer 3: Different tire compounds offer varying levels of grip and durability, with softer compounds providing more grip but wearing out faster.\n",
    "\n",
    "    Question 4: How long is a standard F1 race distance?\n",
    "    Answer 4: Races are typically around 305 kilometers (190 miles), except Monaco which is shorter at 260 kilometers.\n",
    "\n",
    "    Question 5: What is DRS and when can drivers use it?\n",
    "    Answer 5: Drag Reduction System - a moveable rear wing element that reduces drag. Drivers can activate it in designated zones when within one second of the car ahead.\n",
    "\n",
    "    Question 6: What determines the starting grid positions for a race?\n",
    "    Answer 6: Qualifying sessions where drivers compete in three knockout rounds (Q1, Q2, Q3) to determine their starting positions.\n",
    "    \n",
    "    Question 7: How many points are awarded for winning an F1 race?\n",
    "    Answer 7: 25 points for the winner, with decreasing points down to 1 point for 10th place, plus an additional point for the fastest lap.\n",
    "\n",
    "    Question 8: What is the purpose of the pit stop in F1?\n",
    "    Answer 8: To change tires, refuel (in past eras), make repairs, or adjust the car's setup during the race.\n",
    "\n",
    "    Question 9: What is understeer and oversteer in F1 driving?\n",
    "    Answer 9: Understeer occurs when the front wheels lose grip and the car doesn't turn enough; oversteer happens when the rear loses grip and the car turns too much.\n",
    "\n",
    "    Question 10: How do F1 cars generate downforce?\n",
    "    Answer 10: Through aerodynamic elements like wings, diffusers, and the car's floor design that create low pressure under the car, pulling it toward the track.\n",
    "\n",
    "    Question 11: What is the role of the F1 Safety Car?\n",
    "    Answer 11: To slow down the field during dangerous conditions, allowing marshals to clear incidents safely while maintaining the race order.\n",
    "\n",
    "    Question 12: How much do F1 cars weigh?Answer 12: The minimum weight including the driver is 798 kg (1,759 lbs), though teams often add ballast to reach this minimum for better weight distribution.\n",
    "\n",
    "    Question 13: What is parc fermé in F1?\n",
    "    Answer 13: A period from qualifying to the race start where teams cannot make significant setup changes to their cars.\n",
    "\n",
    "    Question 14: How fast can F1 cars accelerate?\n",
    "    Answer 14: They can accelerate from 0 to 100 km/h (62 mph) in approximately 2.4 seconds.\n",
    "\n",
    "    Question 15: What is the difference between wet and intermediate tires?\n",
    "    Answer 15: Intermediate tires are for damp conditions with standing water, while full wet tires are designed for heavy rain with deeper treads.\n",
    "\n",
    "    Question 16: Who governs F1 racing?\n",
    "    Answer 16: The FIA (Fédération Internationale de l'Automobile) sets the rules and regulations for Formula 1.\n",
    "\n",
    "    Question 17: What is the halo device on F1 cars?\n",
    "    Answer 17: A titanium safety structure above the cockpit designed to protect drivers' heads from debris and impacts.\n",
    "\n",
    "    Question 18: How are F1 engines different from road car engines?\n",
    "    Answer 18: F1 engines are highly sophisticated hybrid power units with turbocharging, energy recovery systems, and can rev up to 15,000 RPM.\n",
    "\n",
    "    Question 19: What is slipstreaming in F1?\n",
    "    Answer 19: Following closely behind another car to benefit from reduced air resistance, allowing for higher speeds and potential overtaking opportunities.\n",
    "\n",
    "    Question 20: How does the championship points system work?\n",
    "    Answer 20: Drivers and constructors accumulate points throughout the season based on race finishes, with the highest point totals winning their respective championships.\n",
    "    \"\"\"\n",
    "    return faq_content"
   ]
  },
  {
   "cell_type": "markdown",
   "id": "cfffa51a",
   "metadata": {},
   "source": [
    "_Clean and Split_"
   ]
  },
  {
   "cell_type": "code",
   "execution_count": 3,
   "id": "87122e6b",
   "metadata": {},
   "outputs": [],
   "source": [
    "\n",
    "def clean_and_split_faq(faq_text):\n",
    "    \"\"\"\n",
    "    This function takes our raw FAQ text and converts it into a clean list.\n",
    "    Each item in the list is one Q&A pair that we can search through later.\n",
    "    We replace any line breaks with spaces to keep things tidy.\n",
    "    \"\"\"\n",
    "    # Split the text by double line breaks (which separate Q&A pairs)\n",
    "    qa_pairs = faq_text.split(\"\\n\\n\")\n",
    "    \n",
    "    # Clean up each pair by replacing single line breaks with spaces\n",
    "    cleaned_pairs = [pair.replace(\"\\n\", \" \") for pair in qa_pairs]\n",
    "    \n",
    "    return cleaned_pairs"
   ]
  },
  {
   "cell_type": "markdown",
   "id": "b1ed59c0",
   "metadata": {},
   "source": [
    "__Step 2: Create helper functions for batch processing__"
   ]
  },
  {
   "cell_type": "code",
   "execution_count": 4,
   "id": "23340b4c",
   "metadata": {},
   "outputs": [],
   "source": [
    "def create_batches(data_list, batch_size):\n",
    "    \"\"\"\n",
    "    This is a handy utility function that splits a big list into smaller chunks.\n",
    "    Think of it like dividing a big pizza into slices - easier to handle!\n",
    "    We use this when processing data in batches to avoid overwhelming our system.\n",
    "    \"\"\"\n",
    "    for i in range(0, len(data_list), batch_size):\n",
    "        yield data_list[i:i + batch_size]"
   ]
  },
  {
   "cell_type": "markdown",
   "id": "83b7ece9",
   "metadata": {},
   "source": [
    "__Step 3: Create Embedding System__"
   ]
  },
  {
   "cell_type": "code",
   "execution_count": 5,
   "id": "084a08f4",
   "metadata": {},
   "outputs": [],
   "source": [
    "class EmbeddingGenerator:\n",
    "    \"\"\"\n",
    "    This class is responsible for converting text into numbers (vectors).\n",
    "    It's like translating text into a language that computers can understand.\n",
    "    We use these numbers to find similar content later on.\n",
    "    \"\"\"\n",
    "    \n",
    "    def __init__(self, model_name=\"nomic-ai/nomic-embed-text-v1.5\", batch_size=32):\n",
    "        \"\"\"\n",
    "        Initialize our embedding generator with a specific model.\n",
    "        The model we're using is good at understanding text meaning.\n",
    "        \"\"\"\n",
    "        self.model_name = model_name\n",
    "        self.batch_size = batch_size\n",
    "        self.model = self._initialize_model()\n",
    "        self.embeddings = []\n",
    "        self.text_data = []\n",
    "    \n",
    "    def _initialize_model(self):\n",
    "        \"\"\"\n",
    "        Load the embedding model from HuggingFace.\n",
    "        We store it locally to avoid downloading it every time.\n",
    "        \"\"\"\n",
    "        return HuggingFaceEmbedding(\n",
    "            model_name=self.model_name,\n",
    "            trust_remote_code=True,\n",
    "            cache_folder='./hf_cache'\n",
    "        )\n",
    "    \n",
    "    def convert_text_to_vectors(self, text_list):\n",
    "        \"\"\"\n",
    "        This is where the magic happens! We convert text to vectors.\n",
    "        Each piece of text becomes a list of 768 numbers that represent its meaning.\n",
    "        \"\"\"\n",
    "        return self.model.get_text_embedding_batch(text_list)\n",
    "    \n",
    "    def process_all_data(self, text_list):\n",
    "        \"\"\"\n",
    "        Process all our text data in batches.\n",
    "        We do this in batches to be memory-efficient and show progress.\n",
    "        \"\"\"\n",
    "        self.text_data = text_list\n",
    "        \n",
    "        # Calculate how many batches we'll need\n",
    "        total_batches = len(text_list) // self.batch_size + (1 if len(text_list) % self.batch_size > 0 else 0)\n",
    "        \n",
    "        # Process each batch\n",
    "        for batch in tqdm(create_batches(text_list, self.batch_size), \n",
    "                         total=total_batches,\n",
    "                         desc=\"Converting text to vectors\"):\n",
    "            \n",
    "            batch_vectors = self.convert_text_to_vectors(batch)\n",
    "            self.embeddings.extend(batch_vectors)\n",
    "        \n",
    "        print(f\"✅ Successfully converted {len(self.embeddings)} items to vectors!\")\n"
   ]
  },
  {
   "cell_type": "markdown",
   "id": "e705108d",
   "metadata": {},
   "source": [
    "__STEP 4: Create our database system__"
   ]
  },
  {
   "cell_type": "code",
   "execution_count": 6,
   "id": "83746aef",
   "metadata": {},
   "outputs": [],
   "source": [
    "class VectorDatabase:\n",
    "    \"\"\"\n",
    "    This class manages our vector database using Qdrant.\n",
    "    Think of it as a smart filing cabinet that can quickly find similar documents.\n",
    "    \"\"\"\n",
    "    def __init__(self, collection_name, vector_size=768, batch_size=512):\n",
    "        \"\"\"\n",
    "        Initialize our database connection and settings.\n",
    "        \"\"\"\n",
    "        self.collection_name = collection_name\n",
    "        self.batch_size = batch_size\n",
    "        self.vector_size = vector_size\n",
    "        self.client = None\n",
    "        self._connect_to_database()\n",
    "    \n",
    "    def _connect_to_database(self):\n",
    "        \"\"\"\n",
    "        Connect to our local Qdrant database.\n",
    "        Qdrant must be running on your machine for this to work.\n",
    "        \"\"\"\n",
    "        self.client = QdrantClient(\n",
    "            url=\"http://localhost:6333\",\n",
    "            prefer_grpc=True\n",
    "        )\n",
    "        print(\"✅ Connected to vector database!\")\n",
    "    \n",
    "    def _collection_exists(self):\n",
    "        \"\"\"Check if our collection already exists.\"\"\"\n",
    "        return self.client.collection_exists(collection_name=self.collection_name)\n",
    "    \n",
    "    def create_storage_space(self):\n",
    "        \"\"\"\n",
    "        Create a new collection if it doesn't exist.\n",
    "        This is like creating a new folder in our filing cabinet.\n",
    "        \"\"\"\n",
    "        if not self._collection_exists():\n",
    "            self.client.create_collection(\n",
    "                collection_name=self.collection_name,\n",
    "                vectors_config=models.VectorParams(\n",
    "                    size=self.vector_size,\n",
    "                    distance=models.Distance.DOT,  # How we measure similarity\n",
    "                    on_disk=True  # Store on disk to save memory\n",
    "                ),\n",
    "                optimizers_config=models.OptimizersConfigDiff(\n",
    "                    default_segment_number=5,\n",
    "                    indexing_threshold=0  # Start indexing immediately\n",
    "                )\n",
    "            )\n",
    "            print(f\"✅ Created new collection: {self.collection_name}\")\n",
    "        else:\n",
    "            print(f\"ℹ️  Collection '{self.collection_name}' already exists\")\n",
    "    \n",
    "    def store_embeddings(self, embedding_generator):\n",
    "        \"\"\"\n",
    "        Save all our embeddings and their corresponding text to the database.\n",
    "        We do this in batches to be efficient.\n",
    "        \"\"\"\n",
    "        # Calculate total batches for progress tracking\n",
    "        total_items = len(embedding_generator.text_data)\n",
    "        total_batches = total_items // self.batch_size + (1 if total_items % self.batch_size > 0 else 0)\n",
    "        \n",
    "        # Process in batches\n",
    "        for text_batch, vector_batch in tqdm(\n",
    "            zip(create_batches(embedding_generator.text_data, self.batch_size),\n",
    "                create_batches(embedding_generator.embeddings, self.batch_size)),\n",
    "            total=total_batches,\n",
    "            desc=\"Storing data in database\"\n",
    "        ):\n",
    "            \n",
    "            # Upload this batch to Qdrant\n",
    "            self.client.upload_collection(\n",
    "                collection_name=self.collection_name,\n",
    "                vectors=vector_batch,\n",
    "                payload=[{\"content\": text} for text in text_batch]\n",
    "            )\n",
    "        \n",
    "        # Optimize the collection for faster searches\n",
    "        self.client.update_collection(\n",
    "            collection_name=self.collection_name,\n",
    "            optimizer_config=models.OptimizersConfigDiff(indexing_threshold=20000)\n",
    "        )\n",
    "        print(f\"✅ Successfully stored {total_items} items in the database!\")\n"
   ]
  },
  {
   "cell_type": "markdown",
   "id": "ff1848e1",
   "metadata": {},
   "source": [
    "__STEP 5: Create our search system__"
   ]
  },
  {
   "cell_type": "code",
   "execution_count": 7,
   "id": "f39a732d",
   "metadata": {},
   "outputs": [],
   "source": [
    "\n",
    "# -----------------------------------------------------------------------------\n",
    "# STEP 5: Create our search system\n",
    "# -----------------------------------------------------------------------------\n",
    "\n",
    "class SmartSearcher:\n",
    "    \"\"\"\n",
    "    This class handles searching through our stored data.\n",
    "    It's like having a very fast librarian who can find exactly what you're looking for.\n",
    "    \"\"\"\n",
    "    \n",
    "    def __init__(self, database, embedding_generator):\n",
    "        \"\"\"\n",
    "        Initialize with our database and embedding system.\n",
    "        \"\"\"\n",
    "        self.database = database\n",
    "        self.embedding_generator = embedding_generator\n",
    "    \n",
    "    def find_similar_content(self, user_question, top_k=3):\n",
    "        \"\"\"\n",
    "        Find the most similar content to a user's question.\n",
    "        \n",
    "        Steps:\n",
    "        1. Convert the question to a vector\n",
    "        2. Search the database for similar vectors\n",
    "        3. Return the original text of the most similar items\n",
    "        \"\"\"\n",
    "        # Convert the user's question to a vector\n",
    "        question_vector = self.embedding_generator.model.get_query_embedding(user_question)\n",
    "        \n",
    "        # Search the database\n",
    "        search_results = self.database.client.search(\n",
    "            collection_name=self.database.collection_name,\n",
    "            query_vector=question_vector,\n",
    "            search_params=models.SearchParams(\n",
    "                quantization=models.QuantizationSearchParams(\n",
    "                    ignore=True,\n",
    "                    rescore=True,\n",
    "                    oversampling=2.0,\n",
    "                )\n",
    "            ),\n",
    "            limit=top_k,\n",
    "            timeout=1000\n",
    "        )\n",
    "        \n",
    "        # Extract the text content from search results\n",
    "        relevant_content = []\n",
    "        for result in search_results:\n",
    "            content = result.payload.get(\"content\", \"\")\n",
    "            if content:\n",
    "                relevant_content.append(content)\n",
    "        \n",
    "        # Combine all relevant content with separators\n",
    "        combined_answer = \"\\n\\n---\\n\\n\".join(relevant_content[:top_k])\n",
    "        return combined_answer\n"
   ]
  },
  {
   "cell_type": "markdown",
   "id": "79df3e29",
   "metadata": {},
   "source": [
    "__STEP 6: Put it all together__"
   ]
  },
  {
   "cell_type": "code",
   "execution_count": 9,
   "id": "c8c0c4ef",
   "metadata": {},
   "outputs": [],
   "source": [
    "def build_qa_system():\n",
    "    \"\"\"\n",
    "    This is our main function that builds the entire Q&A system.\n",
    "    It ties all the pieces together in the right order.\n",
    "    \"\"\"\n",
    "    print(\"🚀 Building your intelligent Q&A system...\\n\")\n",
    "    \n",
    "    # Step 1: Load and prepare the data\n",
    "    print(\"📚 Loading FAQ data...\")\n",
    "    faq_text = load_faq_data()\n",
    "    qa_pairs = clean_and_split_faq(faq_text)\n",
    "    print(f\"✅ Loaded {len(qa_pairs)} Q&A pairs\\n\")\n",
    "    \n",
    "    # Step 2: Create embeddings\n",
    "    print(\"🔢 Converting text to vectors...\")\n",
    "    embedding_gen = EmbeddingGenerator(batch_size=32)\n",
    "    embedding_gen.process_all_data(qa_pairs)\n",
    "    print(f\"✅ Created {len(embedding_gen.embeddings)} embeddings of dimension {len(embedding_gen.embeddings[0])}\\n\")\n",
    "    \n",
    "    # Step 3: Set up the database\n",
    "    print(\"🗄️  Setting up vector database...\")\n",
    "    database = VectorDatabase(\"f1_faq_collection\")\n",
    "    database.create_storage_space()\n",
    "    database.store_embeddings(embedding_gen)\n",
    "    print()\n",
    "    \n",
    "    # Step 4: Create the searcher\n",
    "    print(\"🔍 Setting up search system...\")\n",
    "    searcher = SmartSearcher(database, embedding_gen)\n",
    "    print(\"✅ Search system ready!\\n\")\n",
    "    \n",
    "    print(\"🎉 Your Q&A system is ready to go!\")\n",
    "    return searcher\n"
   ]
  },
  {
   "cell_type": "code",
   "execution_count": 10,
   "id": "11f79504",
   "metadata": {},
   "outputs": [],
   "source": [
    "def ask_question(searcher, question):\n",
    "    \"\"\"\n",
    "    A simple function to ask questions and get answers.\n",
    "    This makes it easy to use our Q&A system.\n",
    "    \"\"\"\n",
    "    print(f\"\\n❓ Question: {question}\")\n",
    "    print(\"-\" * 50)\n",
    "    \n",
    "    answer = searcher.find_similar_content(question)\n",
    "    \n",
    "    print(\"📝 Answer:\")\n",
    "    print(answer)\n",
    "    print(\"-\" * 50)\n",
    "    \n",
    "    return answer"
   ]
  },
  {
   "cell_type": "code",
   "execution_count": 11,
   "id": "5e929a60",
   "metadata": {},
   "outputs": [
    {
     "name": "stdout",
     "output_type": "stream",
     "text": [
      "🚀 Building your intelligent Q&A system...\n",
      "\n",
      "📚 Loading FAQ data...\n",
      "✅ Loaded 20 Q&A pairs\n",
      "\n",
      "🔢 Converting text to vectors...\n"
     ]
    },
    {
     "name": "stderr",
     "output_type": "stream",
     "text": [
      "<All keys matched successfully>\n",
      "Converting text to vectors: 100%|██████████| 1/1 [00:03<00:00,  3.33s/it]\n"
     ]
    },
    {
     "name": "stdout",
     "output_type": "stream",
     "text": [
      "✅ Successfully converted 20 items to vectors!\n",
      "✅ Created 20 embeddings of dimension 768\n",
      "\n",
      "🗄️  Setting up vector database...\n",
      "✅ Connected to vector database!\n",
      "✅ Created new collection: f1_faq_collection\n"
     ]
    },
    {
     "name": "stderr",
     "output_type": "stream",
     "text": [
      "Storing data in database: 100%|██████████| 1/1 [00:00<00:00, 86.29it/s]"
     ]
    },
    {
     "name": "stdout",
     "output_type": "stream",
     "text": [
      "✅ Successfully stored 20 items in the database!\n",
      "\n",
      "🔍 Setting up search system...\n",
      "✅ Search system ready!\n",
      "\n",
      "🎉 Your Q&A system is ready to go!\n"
     ]
    },
    {
     "name": "stderr",
     "output_type": "stream",
     "text": [
      "\n"
     ]
    }
   ],
   "source": [
    "searcher = build_qa_system()"
   ]
  },
  {
   "cell_type": "code",
   "execution_count": 12,
   "id": "756dbf21",
   "metadata": {},
   "outputs": [
    {
     "name": "stdout",
     "output_type": "stream",
     "text": [
      "\n",
      "============================================================\n",
      "Testing our Q&A system with some questions...\n",
      "============================================================\n",
      "\n",
      "❓ Question: what is slipstreaming?\n",
      "--------------------------------------------------\n",
      "📝 Answer:\n",
      "    Question 19: What is slipstreaming in F1?     Answer 19: Following closely behind another car to benefit from reduced air resistance, allowing for higher speeds and potential overtaking opportunities.\n",
      "\n",
      "---\n",
      "\n",
      "    Question 9: What is understeer and oversteer in F1 driving?     Answer 9: Understeer occurs when the front wheels lose grip and the car doesn't turn enough; oversteer happens when the rear loses grip and the car turns too much.\n",
      "\n",
      "---\n",
      "\n",
      "    Question 5: What is DRS and when can drivers use it?     Answer 5: Drag Reduction System - a moveable rear wing element that reduces drag. Drivers can activate it in designated zones when within one second of the car ahead.\n",
      "--------------------------------------------------\n",
      "\n",
      "❓ Question: what is a halo device?\n",
      "--------------------------------------------------\n",
      "📝 Answer:\n",
      "    Question 17: What is the halo device on F1 cars?     Answer 17: A titanium safety structure above the cockpit designed to protect drivers' heads from debris and impacts.\n",
      "\n",
      "---\n",
      "\n",
      "    Question 5: What is DRS and when can drivers use it?     Answer 5: Drag Reduction System - a moveable rear wing element that reduces drag. Drivers can activate it in designated zones when within one second of the car ahead.\n",
      "\n",
      "---\n",
      "\n",
      "    Question 19: What is slipstreaming in F1?     Answer 19: Following closely behind another car to benefit from reduced air resistance, allowing for higher speeds and potential overtaking opportunities.\n",
      "--------------------------------------------------\n",
      "\n",
      "❓ Question: who controls F1 ravcing?\n",
      "--------------------------------------------------\n",
      "📝 Answer:\n",
      "    Question 16: Who governs F1 racing?     Answer 16: The FIA (Fédération Internationale de l'Automobile) sets the rules and regulations for Formula 1.\n",
      "\n",
      "---\n",
      "\n",
      "Question 1: What does F1 stand for in Formula 1 racing?     Answer 1: Formula One refers to the specific set of rules and regulations that all participating cars must follow, making it the highest class of single-seater auto racing.\n",
      "\n",
      "---\n",
      "\n",
      "    Question 11: What is the role of the F1 Safety Car?     Answer 11: To slow down the field during dangerous conditions, allowing marshals to clear incidents safely while maintaining the race order.\n",
      "--------------------------------------------------\n"
     ]
    },
    {
     "name": "stderr",
     "output_type": "stream",
     "text": [
      "C:\\Users\\DELL\\AppData\\Local\\Temp\\ipykernel_23284\\1740503888.py:31: DeprecationWarning: `search` method is deprecated and will be removed in the future. Use `query_points` instead.\n",
      "  search_results = self.database.client.search(\n"
     ]
    }
   ],
   "source": [
    "# Example usage\n",
    "test_questions = [\n",
    "    \"what is slipstreaming?\",\n",
    "    \"what is a halo device?\",\n",
    "    \"who controls F1 ravcing?\"\n",
    "]\n",
    "\n",
    "print(\"\\n\" + \"=\"*60)\n",
    "print(\"Testing our Q&A system with some questions...\")\n",
    "print(\"=\"*60)\n",
    "\n",
    "for question in test_questions:\n",
    "    ask_question(searcher, question)"
   ]
  },
  {
   "cell_type": "code",
   "execution_count": 13,
   "id": "7681081e",
   "metadata": {},
   "outputs": [
    {
     "name": "stdout",
     "output_type": "stream",
     "text": [
      "🚀 Building your intelligent Q&A system...\n",
      "\n",
      "📚 Loading FAQ data...\n",
      "✅ Loaded 20 Q&A pairs\n",
      "\n",
      "🔢 Converting text to vectors...\n"
     ]
    },
    {
     "name": "stderr",
     "output_type": "stream",
     "text": [
      "<All keys matched successfully>\n",
      "Converting text to vectors: 100%|██████████| 1/1 [00:03<00:00,  3.06s/it]\n"
     ]
    },
    {
     "name": "stdout",
     "output_type": "stream",
     "text": [
      "✅ Successfully converted 20 items to vectors!\n",
      "✅ Created 20 embeddings of dimension 768\n",
      "\n",
      "🗄️  Setting up vector database...\n",
      "✅ Connected to vector database!\n",
      "ℹ️  Collection 'f1_faq_collection' already exists\n"
     ]
    },
    {
     "name": "stderr",
     "output_type": "stream",
     "text": [
      "Storing data in database: 100%|██████████| 1/1 [00:00<00:00, 17.24it/s]"
     ]
    },
    {
     "name": "stdout",
     "output_type": "stream",
     "text": [
      "✅ Successfully stored 20 items in the database!\n",
      "\n",
      "🔍 Setting up search system...\n",
      "✅ Search system ready!\n",
      "\n",
      "🎉 Your Q&A system is ready to go!\n",
      "\n",
      "============================================================\n",
      "Testing our Q&A system with some questions...\n",
      "============================================================\n",
      "\n",
      "❓ Question: what is slipstreaming?\n",
      "--------------------------------------------------\n",
      "📝 Answer:\n",
      "    Question 19: What is slipstreaming in F1?     Answer 19: Following closely behind another car to benefit from reduced air resistance, allowing for higher speeds and potential overtaking opportunities.\n",
      "\n",
      "---\n",
      "\n",
      "    Question 19: What is slipstreaming in F1?     Answer 19: Following closely behind another car to benefit from reduced air resistance, allowing for higher speeds and potential overtaking opportunities.\n",
      "\n",
      "---\n",
      "\n",
      "    Question 9: What is understeer and oversteer in F1 driving?     Answer 9: Understeer occurs when the front wheels lose grip and the car doesn't turn enough; oversteer happens when the rear loses grip and the car turns too much.\n",
      "--------------------------------------------------\n",
      "\n",
      "❓ Question: what is a halo device?\n",
      "--------------------------------------------------\n"
     ]
    },
    {
     "name": "stderr",
     "output_type": "stream",
     "text": [
      "\n",
      "C:\\Users\\DELL\\AppData\\Local\\Temp\\ipykernel_23284\\1740503888.py:31: DeprecationWarning: `search` method is deprecated and will be removed in the future. Use `query_points` instead.\n",
      "  search_results = self.database.client.search(\n"
     ]
    },
    {
     "name": "stdout",
     "output_type": "stream",
     "text": [
      "📝 Answer:\n",
      "    Question 17: What is the halo device on F1 cars?     Answer 17: A titanium safety structure above the cockpit designed to protect drivers' heads from debris and impacts.\n",
      "\n",
      "---\n",
      "\n",
      "    Question 17: What is the halo device on F1 cars?     Answer 17: A titanium safety structure above the cockpit designed to protect drivers' heads from debris and impacts.\n",
      "\n",
      "---\n",
      "\n",
      "    Question 5: What is DRS and when can drivers use it?     Answer 5: Drag Reduction System - a moveable rear wing element that reduces drag. Drivers can activate it in designated zones when within one second of the car ahead.\n",
      "--------------------------------------------------\n",
      "\n",
      "❓ Question: who controls F1 ravcing?\n",
      "--------------------------------------------------\n",
      "📝 Answer:\n",
      "    Question 16: Who governs F1 racing?     Answer 16: The FIA (Fédération Internationale de l'Automobile) sets the rules and regulations for Formula 1.\n",
      "\n",
      "---\n",
      "\n",
      "    Question 16: Who governs F1 racing?     Answer 16: The FIA (Fédération Internationale de l'Automobile) sets the rules and regulations for Formula 1.\n",
      "\n",
      "---\n",
      "\n",
      "Question 1: What does F1 stand for in Formula 1 racing?     Answer 1: Formula One refers to the specific set of rules and regulations that all participating cars must follow, making it the highest class of single-seater auto racing.\n",
      "--------------------------------------------------\n"
     ]
    }
   ],
   "source": [
    "# -----------------------------------------------------------------------------\n",
    "# Running the system\n",
    "# -----------------------------------------------------------------------------\n",
    "\n",
    "if __name__ == \"__main__\":\n",
    "    # Build the system\n",
    "    searcher = build_qa_system()\n",
    "    \n",
    "    # Example usage\n",
    "    test_questions = [\n",
    "        \"what is slipstreaming?\",\n",
    "        \"what is a halo device?\",\n",
    "        \"who controls F1 ravcing?\"\n",
    "    ]\n",
    "    \n",
    "    print(\"\\n\" + \"=\"*60)\n",
    "    print(\"Testing our Q&A system with some questions...\")\n",
    "    print(\"=\"*60)\n",
    "    \n",
    "    for question in test_questions:\n",
    "        ask_question(searcher, question)"
   ]
  }
 ],
 "metadata": {
  "kernelspec": {
   "display_name": ".venv",
   "language": "python",
   "name": "python3"
  },
  "language_info": {
   "codemirror_mode": {
    "name": "ipython",
    "version": 3
   },
   "file_extension": ".py",
   "mimetype": "text/x-python",
   "name": "python",
   "nbconvert_exporter": "python",
   "pygments_lexer": "ipython3",
   "version": "3.11.12"
  }
 },
 "nbformat": 4,
 "nbformat_minor": 5
}
